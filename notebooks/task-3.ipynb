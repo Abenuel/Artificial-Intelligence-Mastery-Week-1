{
  "nbformat": 4,
  "nbformat_minor": 0,
  "metadata": {
    "colab": {
      "provenance": []
    },
    "kernelspec": {
      "name": "python3",
      "display_name": "Python 3"
    },
    "language_info": {
      "name": "python"
    }
  },
  "cells": [
    {
      "cell_type": "code",
      "execution_count": null,
      "metadata": {
        "id": "_qMLSCkL_8uS"
      },
      "outputs": [],
      "source": [
        "%pip install tulipy\n",
        "%pip install textblob"
      ]
    },
    {
      "cell_type": "code",
      "source": [
        "import pandas as pd\n",
        "import matplotlib.pyplot as plt\n",
        "import tulipy as ti\n",
        "from textblob import TextBlob"
      ],
      "metadata": {
        "id": "nHRXS7Z0AIE5"
      },
      "execution_count": null,
      "outputs": []
    },
    {
      "cell_type": "code",
      "source": [
        "# Load Combined Stock Data\n",
        "file_path = '../data/combined_stock_data.csv'\n",
        "combined_data = pd.read_csv(file_path)\n",
        "\n",
        "# Load News Data\n",
        "news_file_path = '../data/processed_financial_news.csv'\n",
        "news_data = pd.read_csv(news_file_path)\n",
        "\n",
        "# Ensure Date is a Datetime Object for Both Datasets\n",
        "combined_data['Date'] = pd.to_datetime(combined_data['Date'])\n",
        "news_data['date'] = pd.to_datetime(news_data['date'])\n",
        "\n",
        "# Align News and Stock Data by Date\n",
        "combined_data.set_index('Date', inplace=True)\n",
        "news_data['date'] = news_data['date'].dt.date\n",
        "news_data_grouped = news_data.groupby('date')['headline'].apply(lambda x: ' '.join(x))\n",
        "news_data_grouped = news_data_grouped.reset_index()"
      ],
      "metadata": {
        "id": "14NSIQmoAJ0X"
      },
      "execution_count": null,
      "outputs": []
    },
    {
      "cell_type": "code",
      "source": [
        "# Conduct Sentiment Analysis on News Headlines\n",
        "def calculate_sentiment(headline):\n",
        "    analysis = TextBlob(headline)\n",
        "    return analysis.sentiment.polarity\n",
        "\n",
        "news_data_grouped['sentiment'] = news_data_grouped['headline'].apply(calculate_sentiment)\n",
        "\n",
        "# Adjust Date Columns to Match Datetime Format\n",
        "news_data_grouped['date'] = pd.to_datetime(news_data_grouped['date'])\n",
        "combined_data.reset_index(inplace=True)\n",
        "\n",
        "# Merge Sentiment Data with Stock Data\n",
        "stock_and_news = pd.merge(combined_data, news_data_grouped, left_on='Date', right_on='date', how='left')\n",
        "\n",
        "# Calculate Daily Stock Returns\n",
        "stock_and_news['Daily_Returns'] = stock_and_news['Close'].pct_change()\n",
        "\n",
        "# Perform Correlation Analysis\n",
        "correlation = stock_and_news[['Daily_Returns', 'sentiment']].corr()\n",
        "print(\"Correlation between Daily Returns and Sentiment:\")\n",
        "print(correlation)"
      ],
      "metadata": {
        "id": "p0AAR5wnASGW"
      },
      "execution_count": null,
      "outputs": []
    },
    {
      "cell_type": "code",
      "source": [
        "# Visualization of Sentiment and Stock Returns\n",
        "plt.figure(figsize=(10, 6))\n",
        "plt.scatter(stock_and_news['sentiment'], stock_and_news['Daily_Returns'], alpha=0.5)\n",
        "plt.title('Correlation between Sentiment and Daily Stock Returns')\n",
        "plt.xlabel('Sentiment Score')\n",
        "plt.ylabel('Daily Stock Returns')\n",
        "plt.grid(True)\n",
        "plt.show()\n",
        "\n",
        "# Optional: Save Processed Data\n",
        "output_file = '../data/stock_and_news_correlation.csv'\n",
        "stock_and_news.to_csv(output_file, index=False)\n",
        "print(f\"Processed data saved to {output_file}\")\n"
      ],
      "metadata": {
        "id": "gb39mFLRATs5"
      },
      "execution_count": null,
      "outputs": []
    }
  ]
}